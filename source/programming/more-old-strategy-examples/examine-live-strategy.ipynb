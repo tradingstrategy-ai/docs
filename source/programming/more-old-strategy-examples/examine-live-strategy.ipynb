{
 "cells": [
  {
   "cell_type": "raw",
   "metadata": {
    "raw_mimetype": "text/restructuredtext",
    "tags": []
   },
   "source": [
    ".. tags:: live-strategy"
   ]
  },
  {
   "cell_type": "markdown",
   "metadata": {},
   "source": [
    "# Examining live trading strategy using notebook\n",
    "\n",
    "In this notebook, we show how to examine live trading strategy instance using Python and Jupyter notebook.\n",
    "\n",
    "- Downloading the trades from the live instance\n",
    "- Reading data to `State` object\n",
    "- Using the same analytics functions we use in backtests against the live data"
   ]
  },
  {
   "cell_type": "markdown",
   "metadata": {},
   "source": [
    "## Getting started\n",
    "\n",
    "First, let's create Trading Strategy oracle market data client.\n",
    "If you do not have an API key yet, you will be asked to create one.\n"
   ]
  },
  {
   "cell_type": "code",
   "execution_count": 1,
   "metadata": {},
   "outputs": [
    {
     "name": "stdout",
     "output_type": "stream",
     "text": [
      "Started Trading Strategy in Jupyter notebook environment, configuration is stored in /home/alex/.tradingstrategy\n"
     ]
    }
   ],
   "source": [
    "from tradingstrategy.client import Client\n",
    "\n",
    "client = Client.create_jupyter_client()"
   ]
  },
  {
   "cell_type": "markdown",
   "metadata": {},
   "source": [
    "## Download strategy trades\n",
    "\n",
    "- Each strategy Docker instances offers a webhook that allows access the data of this strategy, include `State` object\n",
    "  that is the flat file state of the all the strategy current and past decision making\n",
    "- Note that `State` class and any children classes in the state tree may have changes  between\n",
    "  versions and decoding might need you to use a specific version of `trade-executor`\n"
   ]
  },
  {
   "cell_type": "code",
   "execution_count": 2,
   "metadata": {},
   "outputs": [
    {
     "name": "stdout",
     "output_type": "stream",
     "text": [
      "Downloaded 6,467 bytes state data\n"
     ]
    },
    {
     "ename": "JSONDecodeError",
     "evalue": "Expecting value: line 1 column 1 (char 0)",
     "output_type": "error",
     "traceback": [
      "\u001b[0;31m---------------------------------------------------------------------------\u001b[0m",
      "\u001b[0;31mJSONDecodeError\u001b[0m                           Traceback (most recent call last)",
      "Cell \u001b[0;32mIn[2], line 19\u001b[0m\n\u001b[1;32m     15\u001b[0m state_blob \u001b[38;5;241m=\u001b[39m resp\u001b[38;5;241m.\u001b[39mcontent\n\u001b[1;32m     17\u001b[0m \u001b[38;5;28mprint\u001b[39m(\u001b[38;5;124mf\u001b[39m\u001b[38;5;124m\"\u001b[39m\u001b[38;5;124mDownloaded \u001b[39m\u001b[38;5;132;01m{\u001b[39;00m\u001b[38;5;28mlen\u001b[39m(state_blob)\u001b[38;5;132;01m:\u001b[39;00m\u001b[38;5;124m,\u001b[39m\u001b[38;5;132;01m}\u001b[39;00m\u001b[38;5;124m bytes state data\u001b[39m\u001b[38;5;124m\"\u001b[39m)\n\u001b[0;32m---> 19\u001b[0m state \u001b[38;5;241m=\u001b[39m \u001b[43mState\u001b[49m\u001b[38;5;241;43m.\u001b[39;49m\u001b[43mfrom_json\u001b[49m\u001b[43m(\u001b[49m\u001b[43mstate_blob\u001b[49m\u001b[43m)\u001b[49m\n\u001b[1;32m     21\u001b[0m \u001b[38;5;28mprint\u001b[39m(\u001b[38;5;124mf\u001b[39m\u001b[38;5;124m\"\u001b[39m\u001b[38;5;124mtrade-executor was launched at: \u001b[39m\u001b[38;5;132;01m{\u001b[39;00mstate\u001b[38;5;241m.\u001b[39mcreated_at\u001b[38;5;132;01m}\u001b[39;00m\u001b[38;5;124m, we have \u001b[39m\u001b[38;5;132;01m{\u001b[39;00m\u001b[38;5;28mlen\u001b[39m(\u001b[38;5;28mlist\u001b[39m(state\u001b[38;5;241m.\u001b[39mportfolio\u001b[38;5;241m.\u001b[39mget_all_trades()))\u001b[38;5;132;01m}\u001b[39;00m\u001b[38;5;124m trades\u001b[39m\u001b[38;5;124m\"\u001b[39m)\n",
      "File \u001b[0;32m~/.pyenv/versions/3.10.8/lib/python3.10/site-packages/dataclasses_json/api.py:58\u001b[0m, in \u001b[0;36mDataClassJsonMixin.from_json\u001b[0;34m(cls, s, parse_float, parse_int, parse_constant, infer_missing, **kw)\u001b[0m\n\u001b[1;32m     49\u001b[0m \u001b[38;5;129m@classmethod\u001b[39m\n\u001b[1;32m     50\u001b[0m \u001b[38;5;28;01mdef\u001b[39;00m \u001b[38;5;21mfrom_json\u001b[39m(\u001b[38;5;28mcls\u001b[39m: Type[A],\n\u001b[1;32m     51\u001b[0m               s: JsonData,\n\u001b[0;32m   (...)\u001b[0m\n\u001b[1;32m     56\u001b[0m               infer_missing\u001b[38;5;241m=\u001b[39m\u001b[38;5;28;01mFalse\u001b[39;00m,\n\u001b[1;32m     57\u001b[0m               \u001b[38;5;241m*\u001b[39m\u001b[38;5;241m*\u001b[39mkw) \u001b[38;5;241m-\u001b[39m\u001b[38;5;241m>\u001b[39m A:\n\u001b[0;32m---> 58\u001b[0m     kvs \u001b[38;5;241m=\u001b[39m \u001b[43mjson\u001b[49m\u001b[38;5;241;43m.\u001b[39;49m\u001b[43mloads\u001b[49m\u001b[43m(\u001b[49m\u001b[43ms\u001b[49m\u001b[43m,\u001b[49m\n\u001b[1;32m     59\u001b[0m \u001b[43m                     \u001b[49m\u001b[43mparse_float\u001b[49m\u001b[38;5;241;43m=\u001b[39;49m\u001b[43mparse_float\u001b[49m\u001b[43m,\u001b[49m\n\u001b[1;32m     60\u001b[0m \u001b[43m                     \u001b[49m\u001b[43mparse_int\u001b[49m\u001b[38;5;241;43m=\u001b[39;49m\u001b[43mparse_int\u001b[49m\u001b[43m,\u001b[49m\n\u001b[1;32m     61\u001b[0m \u001b[43m                     \u001b[49m\u001b[43mparse_constant\u001b[49m\u001b[38;5;241;43m=\u001b[39;49m\u001b[43mparse_constant\u001b[49m\u001b[43m,\u001b[49m\n\u001b[1;32m     62\u001b[0m \u001b[43m                     \u001b[49m\u001b[38;5;241;43m*\u001b[39;49m\u001b[38;5;241;43m*\u001b[39;49m\u001b[43mkw\u001b[49m\u001b[43m)\u001b[49m\n\u001b[1;32m     63\u001b[0m     \u001b[38;5;28;01mreturn\u001b[39;00m \u001b[38;5;28mcls\u001b[39m\u001b[38;5;241m.\u001b[39mfrom_dict(kvs, infer_missing\u001b[38;5;241m=\u001b[39minfer_missing)\n",
      "File \u001b[0;32m~/.pyenv/versions/3.10.8/lib/python3.10/json/__init__.py:346\u001b[0m, in \u001b[0;36mloads\u001b[0;34m(s, cls, object_hook, parse_float, parse_int, parse_constant, object_pairs_hook, **kw)\u001b[0m\n\u001b[1;32m    341\u001b[0m     s \u001b[38;5;241m=\u001b[39m s\u001b[38;5;241m.\u001b[39mdecode(detect_encoding(s), \u001b[38;5;124m'\u001b[39m\u001b[38;5;124msurrogatepass\u001b[39m\u001b[38;5;124m'\u001b[39m)\n\u001b[1;32m    343\u001b[0m \u001b[38;5;28;01mif\u001b[39;00m (\u001b[38;5;28mcls\u001b[39m \u001b[38;5;129;01mis\u001b[39;00m \u001b[38;5;28;01mNone\u001b[39;00m \u001b[38;5;129;01mand\u001b[39;00m object_hook \u001b[38;5;129;01mis\u001b[39;00m \u001b[38;5;28;01mNone\u001b[39;00m \u001b[38;5;129;01mand\u001b[39;00m\n\u001b[1;32m    344\u001b[0m         parse_int \u001b[38;5;129;01mis\u001b[39;00m \u001b[38;5;28;01mNone\u001b[39;00m \u001b[38;5;129;01mand\u001b[39;00m parse_float \u001b[38;5;129;01mis\u001b[39;00m \u001b[38;5;28;01mNone\u001b[39;00m \u001b[38;5;129;01mand\u001b[39;00m\n\u001b[1;32m    345\u001b[0m         parse_constant \u001b[38;5;129;01mis\u001b[39;00m \u001b[38;5;28;01mNone\u001b[39;00m \u001b[38;5;129;01mand\u001b[39;00m object_pairs_hook \u001b[38;5;129;01mis\u001b[39;00m \u001b[38;5;28;01mNone\u001b[39;00m \u001b[38;5;129;01mand\u001b[39;00m \u001b[38;5;129;01mnot\u001b[39;00m kw):\n\u001b[0;32m--> 346\u001b[0m     \u001b[38;5;28;01mreturn\u001b[39;00m \u001b[43m_default_decoder\u001b[49m\u001b[38;5;241;43m.\u001b[39;49m\u001b[43mdecode\u001b[49m\u001b[43m(\u001b[49m\u001b[43ms\u001b[49m\u001b[43m)\u001b[49m\n\u001b[1;32m    347\u001b[0m \u001b[38;5;28;01mif\u001b[39;00m \u001b[38;5;28mcls\u001b[39m \u001b[38;5;129;01mis\u001b[39;00m \u001b[38;5;28;01mNone\u001b[39;00m:\n\u001b[1;32m    348\u001b[0m     \u001b[38;5;28mcls\u001b[39m \u001b[38;5;241m=\u001b[39m JSONDecoder\n",
      "File \u001b[0;32m~/.pyenv/versions/3.10.8/lib/python3.10/json/decoder.py:337\u001b[0m, in \u001b[0;36mJSONDecoder.decode\u001b[0;34m(self, s, _w)\u001b[0m\n\u001b[1;32m    332\u001b[0m \u001b[38;5;28;01mdef\u001b[39;00m \u001b[38;5;21mdecode\u001b[39m(\u001b[38;5;28mself\u001b[39m, s, _w\u001b[38;5;241m=\u001b[39mWHITESPACE\u001b[38;5;241m.\u001b[39mmatch):\n\u001b[1;32m    333\u001b[0m \u001b[38;5;250m    \u001b[39m\u001b[38;5;124;03m\"\"\"Return the Python representation of ``s`` (a ``str`` instance\u001b[39;00m\n\u001b[1;32m    334\u001b[0m \u001b[38;5;124;03m    containing a JSON document).\u001b[39;00m\n\u001b[1;32m    335\u001b[0m \n\u001b[1;32m    336\u001b[0m \u001b[38;5;124;03m    \"\"\"\u001b[39;00m\n\u001b[0;32m--> 337\u001b[0m     obj, end \u001b[38;5;241m=\u001b[39m \u001b[38;5;28;43mself\u001b[39;49m\u001b[38;5;241;43m.\u001b[39;49m\u001b[43mraw_decode\u001b[49m\u001b[43m(\u001b[49m\u001b[43ms\u001b[49m\u001b[43m,\u001b[49m\u001b[43m \u001b[49m\u001b[43midx\u001b[49m\u001b[38;5;241;43m=\u001b[39;49m\u001b[43m_w\u001b[49m\u001b[43m(\u001b[49m\u001b[43ms\u001b[49m\u001b[43m,\u001b[49m\u001b[43m \u001b[49m\u001b[38;5;241;43m0\u001b[39;49m\u001b[43m)\u001b[49m\u001b[38;5;241;43m.\u001b[39;49m\u001b[43mend\u001b[49m\u001b[43m(\u001b[49m\u001b[43m)\u001b[49m\u001b[43m)\u001b[49m\n\u001b[1;32m    338\u001b[0m     end \u001b[38;5;241m=\u001b[39m _w(s, end)\u001b[38;5;241m.\u001b[39mend()\n\u001b[1;32m    339\u001b[0m     \u001b[38;5;28;01mif\u001b[39;00m end \u001b[38;5;241m!=\u001b[39m \u001b[38;5;28mlen\u001b[39m(s):\n",
      "File \u001b[0;32m~/.pyenv/versions/3.10.8/lib/python3.10/json/decoder.py:355\u001b[0m, in \u001b[0;36mJSONDecoder.raw_decode\u001b[0;34m(self, s, idx)\u001b[0m\n\u001b[1;32m    353\u001b[0m     obj, end \u001b[38;5;241m=\u001b[39m \u001b[38;5;28mself\u001b[39m\u001b[38;5;241m.\u001b[39mscan_once(s, idx)\n\u001b[1;32m    354\u001b[0m \u001b[38;5;28;01mexcept\u001b[39;00m \u001b[38;5;167;01mStopIteration\u001b[39;00m \u001b[38;5;28;01mas\u001b[39;00m err:\n\u001b[0;32m--> 355\u001b[0m     \u001b[38;5;28;01mraise\u001b[39;00m JSONDecodeError(\u001b[38;5;124m\"\u001b[39m\u001b[38;5;124mExpecting value\u001b[39m\u001b[38;5;124m\"\u001b[39m, s, err\u001b[38;5;241m.\u001b[39mvalue) \u001b[38;5;28;01mfrom\u001b[39;00m \u001b[38;5;28;01mNone\u001b[39;00m\n\u001b[1;32m    356\u001b[0m \u001b[38;5;28;01mreturn\u001b[39;00m obj, end\n",
      "\u001b[0;31mJSONDecodeError\u001b[0m: Expecting value: line 1 column 1 (char 0)"
     ]
    }
   ],
   "source": [
    "\n",
    "from tradeexecutor.monkeypatch.dataclasses_json import patch_dataclasses_json\n",
    "from tradeexecutor.state.state import State\n",
    "import requests\n",
    "\n",
    "# Currently needed because unpatched dataclasses_json package issues\n",
    "patch_dataclasses_json()\n",
    "\n",
    "# Public internet endpoint as exposed by the trade executor Docker\n",
    "webbhook_url = \"https://pancake-eth-usd-sma.tradingstrategy.ai\"\n",
    "\n",
    "state_api = f\"{webbhook_url}/state\"\n",
    "\n",
    "resp = requests.get(state_api)\n",
    "\n",
    "state_blob = resp.content\n",
    "\n",
    "print(f\"Downloaded {len(state_blob):,} bytes state data\")\n",
    "\n",
    "state = State.from_json(state_blob)\n",
    "\n",
    "print(f\"trade-executor was launched at: {state.created_at}, we have {len(list(state.portfolio.get_all_trades()))} trades\")"
   ]
  },
  {
   "cell_type": "markdown",
   "metadata": {},
   "source": [
    "## Analyse the live trades performance\n",
    "\n",
    "We can use the same functions as in our backtesting notebooks to produce summaries, graphs."
   ]
  },
  {
   "cell_type": "code",
   "execution_count": null,
   "metadata": {},
   "outputs": [],
   "source": [
    "import pandas as pd\n",
    "from IPython.core.display_functions import display\n",
    "from tradeexecutor.analysis.trade_analyser import build_trade_analysis\n",
    "\n",
    "analysis = build_trade_analysis(state.portfolio)\n",
    "\n",
    "summary = analysis.calculate_summary_statistics()\n",
    "\n",
    "with pd.option_context(\"display.max_row\", None):\n",
    "    summary.display()"
   ]
  },
  {
   "cell_type": "markdown",
   "metadata": {},
   "source": [
    "## Determinte strategy trading pairs\n",
    "\n",
    "- Figure out what trading pairs the strategy has been trading from its state\n"
   ]
  },
  {
   "cell_type": "code",
   "execution_count": null,
   "metadata": {},
   "outputs": [],
   "source": [
    "from tradeexecutor.state.position import TradingPosition\n",
    "\n",
    "pairs = set()\n",
    "\n",
    "position: TradingPosition\n",
    "for trade in state.portfolio.get_all_trades():\n",
    "    pairs.add(trade.pair)\n",
    "\n",
    "\n",
    "first_trade, last_trade = state.portfolio.get_first_and_last_executed_trade()\n",
    "\n",
    "print(f\"Strategy was trading: {pairs}\")"
   ]
  },
  {
   "cell_type": "markdown",
   "metadata": {},
   "source": [
    "## Download market data\n",
    "\n",
    "- We download the trading pair OHCLV candles so that\n",
    "  we can overlay the strategy trades on the\n",
    "- We use 5 minutes accuracy to be able visualise\n",
    "  trade events and slippage more accurately on the price chart"
   ]
  },
  {
   "cell_type": "code",
   "execution_count": null,
   "metadata": {},
   "outputs": [],
   "source": [
    "from tradeexecutor.state.identifier import TradingPairIdentifier\n",
    "from tradingstrategy.timebucket import TimeBucket\n",
    "import datetime\n",
    "\n",
    "assert len(pairs) == 1, \"In this notebook, we support analysing only single pair strategies\"\n",
    "pair: TradingPairIdentifier\n",
    "(pair,) = pairs  # Operate on a single pair now on\n",
    "\n",
    "# Add some data margin around our\n",
    "# trade timeline visualisation\n",
    "feed_start_at = first_trade.started_at - datetime.timedelta(days=2)\n",
    "feed_end_at = last_trade.executed_at + datetime.timedelta(days=2)\n",
    "\n",
    "candles: pd.DataFrame = client.fetch_candles_by_pair_ids(\n",
    "    {pair.internal_id},\n",
    "    TimeBucket.m15,\n",
    "    progress_bar_description=f\"Download data for {pair.base.token_symbol} - {pair.quote.token_symbol}\",\n",
    "    start_time=feed_start_at,\n",
    "    end_time=feed_end_at,\n",
    ")\n",
    "\n",
    "print(f\"Loaded {len(candles)} candles, {feed_start_at} - {feed_end_at}\")"
   ]
  },
  {
   "cell_type": "markdown",
   "metadata": {},
   "source": [
    "## Visualise positions\n",
    "\n",
    "- We use more accurate 15 minutes candle data do visualite\n",
    "  the price action, instead of the strategy decision making 1h cycle.\n",
    "  This allows us to examine our trade execution against more precie\n",
    "  price movement.\n",
    "- We use a specific chart to analyse live trading positions visually.\n",
    "- Positions are visualised as area: green is closed for profit, red is closed for loss.\n",
    "  Each position has a tooltip hint at the top to show its data.\n",
    "- This chart type also shows slippage and duration, between the trade start and trade end,\n",
    "  to visualise how much much losses were taken on slippage.\n",
    "- Individual trades, entries and exists are visualised as arrows.\n",
    "- If arrows have any meaningful length in Y (price) direction it means expected price and execution prices\n",
    "  differ. There was slippage and we could not execute the trade with the price we wanted.\n",
    "- If arrows have any meaningful length in X (time) direction it means that executing the trade\n",
    "  too longer than expected - block and transaction confirmation was slow, or there\n",
    "  was some other issue in the trade execution.\n",
    "- If the arrows are point like it means the trade was executed as expected.\n"
   ]
  },
  {
   "cell_type": "code",
   "execution_count": null,
   "metadata": {},
   "outputs": [],
   "source": [
    "from tradeexecutor.visual.single_pair import visualise_single_pair_positions_with_duration_and_slippage\n",
    "\n",
    "fig = visualise_single_pair_positions_with_duration_and_slippage(\n",
    "    state,\n",
    "    candles,\n",
    "    start_at=feed_start_at,\n",
    "    end_at=feed_end_at,\n",
    ")\n",
    "\n",
    "display(fig)"
   ]
  },
  {
   "cell_type": "code",
   "execution_count": null,
   "metadata": {
    "tags": []
   },
   "outputs": [],
   "source": [
    "print(\"All done\")"
   ]
  }
 ],
 "metadata": {
  "kernelspec": {
   "display_name": "Python 3 (ipykernel)",
   "language": "python",
   "name": "python3"
  },
  "language_info": {
   "codemirror_mode": {
    "name": "ipython",
    "version": 3
   },
   "file_extension": ".py",
   "mimetype": "text/x-python",
   "name": "python",
   "nbconvert_exporter": "python",
   "pygments_lexer": "ipython3",
   "version": "3.10.8"
  }
 },
 "nbformat": 4,
 "nbformat_minor": 4
}
