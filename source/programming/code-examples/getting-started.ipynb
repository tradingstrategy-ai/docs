{
 "cells": [
  {
   "cell_type": "markdown",
   "metadata": {
    "collapsed": false
   },
   "source": [
    "# Getting started coding tutorial (old)\n",
    "\n",
    "**Note**: This tutorial is old. Please see [Getting started Github repository instead](https://github.com/tradingstrategy-ai/getting-started)\n",
    "which comes with integrated Github Codespaces and Visual Studio Code support.\n",
    "\n",
    "Old deprecated tutorial follows 👇👇👇\n",
    "\n",
    "## Preface\n",
    "\n",
    "Before starting [see how to set up your development environment](https://tradingstrategy.ai/docs/programming/index.html)."
   ]
  },
  {
   "cell_type": "markdown",
   "metadata": {
    "collapsed": false
   },
   "source": [
    "## Creating Trading Strategy market data cleint\n",
    "\n",
    "If you do not have an API key saved on the Notebook server yet,\n",
    "this will **prompt you** to create an API key and then saves it for you.\n",
    "Please answer the interactive questions when the notebook is running."
   ]
  },
  {
   "cell_type": "code",
   "execution_count": 1,
   "metadata": {
    "collapsed": true
   },
   "outputs": [
    {
     "name": "stderr",
     "output_type": "stream",
     "text": [
      "<jemalloc>: MADV_DONTNEED does not work (memset will be used instead)\n",
      "<jemalloc>: (This is the expected behaviour if you are running under QEMU)\n"
     ]
    },
    {
     "name": "stdout",
     "output_type": "stream",
     "text": [
      "No existing Trading Strategy configuration found in /root/.tradingstrategy/settings.json. Starting interactive setup.\n",
      "Using Trading Strategy requires you to have an API key.\n",
      "The API key is in format 'secret-token:tradingstrategy-...'\n",
      "Testing out API key: secret-token:tradingstra\n",
      "The server replied accepted our API key and sent the following greetings:\n",
      "Server version: 0.1\n",
      "Message of the day: Han shot first\n",
      "The API key setup complete.\n"
     ]
    }
   ],
   "source": [
    "from tradingstrategy.client import Client\n",
    "\n",
    "client = Client.create_jupyter_client()"
   ]
  },
  {
   "cell_type": "markdown",
   "metadata": {
    "collapsed": false
   },
   "source": [
    "Now when the API key is created and we are connected, we can do some analysis.\n",
    "Let's get the top 10 supported exchanges by their 30 days trading volume\n",
    "for [supported tokens](https://tradingstrategy.ai/docs/programming/market-data/tracking.html)."
   ]
  },
  {
   "cell_type": "code",
   "execution_count": 2,
   "metadata": {
    "collapsed": false
   },
   "outputs": [
    {
     "name": "stdout",
     "output_type": "stream",
     "text": [
      "This Jupyter notebook was run and the results captured at 2023-02-01\n"
     ]
    }
   ],
   "source": [
    "# Let's log the date when the this notebook was run,\n",
    "# as the notebook and its output will be on the website documentation\n",
    "import datetime\n",
    "print(f\"This Jupyter notebook was run and the results captured at {datetime.date.today()}\")"
   ]
  },
  {
   "cell_type": "markdown",
   "metadata": {
    "collapsed": false
   },
   "source": [
    "Then let's extract some montly statistics from the exchange dataset."
   ]
  },
  {
   "cell_type": "code",
   "execution_count": 3,
   "metadata": {
    "collapsed": false
   },
   "outputs": [
    {
     "data": {
      "application/vnd.jupyter.widget-view+json": {
       "model_id": "4315999ee7ea463692f530d778d6bcee",
       "version_major": 2,
       "version_minor": 0
      },
      "text/plain": [
       "Downloading exchange dataset(Unknown total file size): 0it [00:00, ?it/s]"
      ]
     },
     "metadata": {},
     "output_type": "display_data"
    },
    {
     "data": {
      "text/html": [
       "<div>\n",
       "<style scoped>\n",
       "    .dataframe tbody tr th:only-of-type {\n",
       "        vertical-align: middle;\n",
       "    }\n",
       "\n",
       "    .dataframe tbody tr th {\n",
       "        vertical-align: top;\n",
       "    }\n",
       "\n",
       "    .dataframe thead th {\n",
       "        text-align: right;\n",
       "    }\n",
       "</style>\n",
       "<table border=\"1\" class=\"dataframe\">\n",
       "  <thead>\n",
       "    <tr style=\"text-align: right;\">\n",
       "      <th></th>\n",
       "      <th>Exchange</th>\n",
       "      <th>Blockchain</th>\n",
       "      <th>USD Volume 30d</th>\n",
       "    </tr>\n",
       "  </thead>\n",
       "  <tbody>\n",
       "    <tr>\n",
       "      <th>1</th>\n",
       "      <td>Uniswap v3</td>\n",
       "      <td>Ethereum</td>\n",
       "      <td>24,796,171,631.11</td>\n",
       "    </tr>\n",
       "    <tr>\n",
       "      <th>2</th>\n",
       "      <td>PancakeSwap v2</td>\n",
       "      <td>Binance Smart Chain</td>\n",
       "      <td>3,296,881,933.19</td>\n",
       "    </tr>\n",
       "    <tr>\n",
       "      <th>3</th>\n",
       "      <td>Uniswap v2</td>\n",
       "      <td>Ethereum</td>\n",
       "      <td>2,365,628,460.17</td>\n",
       "    </tr>\n",
       "    <tr>\n",
       "      <th>4</th>\n",
       "      <td>Uniswap v3</td>\n",
       "      <td>Polygon</td>\n",
       "      <td>1,582,595,009.69</td>\n",
       "    </tr>\n",
       "    <tr>\n",
       "      <th>5</th>\n",
       "      <td>Sushi</td>\n",
       "      <td>Ethereum</td>\n",
       "      <td>748,421,932.53</td>\n",
       "    </tr>\n",
       "    <tr>\n",
       "      <th>6</th>\n",
       "      <td>Shiba Swap</td>\n",
       "      <td>Ethereum</td>\n",
       "      <td>271,597,428.20</td>\n",
       "    </tr>\n",
       "    <tr>\n",
       "      <th>7</th>\n",
       "      <td>Biswap</td>\n",
       "      <td>Binance Smart Chain</td>\n",
       "      <td>270,492,281.23</td>\n",
       "    </tr>\n",
       "    <tr>\n",
       "      <th>8</th>\n",
       "      <td>Quickswap</td>\n",
       "      <td>Polygon</td>\n",
       "      <td>181,327,202.93</td>\n",
       "    </tr>\n",
       "    <tr>\n",
       "      <th>9</th>\n",
       "      <td>Trader Joe</td>\n",
       "      <td>Avalanche C-chain</td>\n",
       "      <td>120,264,325.57</td>\n",
       "    </tr>\n",
       "    <tr>\n",
       "      <th>10</th>\n",
       "      <td>Nomiswap Stable</td>\n",
       "      <td>Binance Smart Chain</td>\n",
       "      <td>92,298,036.89</td>\n",
       "    </tr>\n",
       "  </tbody>\n",
       "</table>\n",
       "</div>"
      ],
      "text/plain": [
       "           Exchange           Blockchain     USD Volume 30d\n",
       "1        Uniswap v3             Ethereum  24,796,171,631.11\n",
       "2    PancakeSwap v2  Binance Smart Chain   3,296,881,933.19\n",
       "3        Uniswap v2             Ethereum   2,365,628,460.17\n",
       "4        Uniswap v3              Polygon   1,582,595,009.69\n",
       "5             Sushi             Ethereum     748,421,932.53\n",
       "6        Shiba Swap             Ethereum     271,597,428.20\n",
       "7            Biswap  Binance Smart Chain     270,492,281.23\n",
       "8         Quickswap              Polygon     181,327,202.93\n",
       "9        Trader Joe    Avalanche C-chain     120,264,325.57\n",
       "10  Nomiswap Stable  Binance Smart Chain      92,298,036.89"
      ]
     },
     "metadata": {},
     "output_type": "display_data"
    }
   ],
   "source": [
    "from typing import List\n",
    "from IPython.display import display\n",
    "import pandas as pd\n",
    "import numpy as np\n",
    "from tradingstrategy.chain import ChainId\n",
    "from tradingstrategy.exchange import Exchange\n",
    "\n",
    "universe = client.fetch_exchange_universe()\n",
    "\n",
    "# Have nice type decoration to make the tutorial\n",
    "# more readable\n",
    "exchanges: List[Exchange] = []\n",
    "volumes: List[float] = []\n",
    "chains: List[str] = []\n",
    "\n",
    "for xchg in universe.get_top_exchanges_by_30d_volume()[0:10]:\n",
    "    exchanges.append(xchg.name)\n",
    "    # Format volume with the  thousand separator\n",
    "    volumes.append(\"{:,.2f}\".format(xchg.vol_30d))\n",
    "    # Pull blockchain name for the chain id number from\n",
    "    # chain data database\n",
    "    chain_id: ChainId = xchg.chain_id\n",
    "    chains.append(chain_id.get_name())\n",
    "\n",
    "# Convert output to Pandas DataFrame object so that\n",
    "# notebook can render it as a nice table\n",
    "df = pd.DataFrame({\"Exchange\": exchanges, \"Blockchain\": chains, \"USD Volume 30d\": volumes})\n",
    "\n",
    "# Index rows starting with one instead of zero\n",
    "df.index = np.arange(1, len(df)+1)\n",
    "\n",
    "# Show dataframe as HTML table\n",
    "display(df)"
   ]
  },
  {
   "cell_type": "markdown",
   "metadata": {
    "collapsed": false
   },
   "source": [
    "Ta-da - all done! Now you can proceed to [view more complex examples](./index.html).\n"
   ]
  }
 ],
 "metadata": {
  "interpreter": {
   "hash": "c96528bb917298a31abef2e197080e6a10eb1352f3e7cf22e3cda1d475017046"
  },
  "kernelspec": {
   "display_name": "PyCharm (dex_ohlcv)",
   "language": "python",
   "name": "python3"
  },
  "language_info": {
   "codemirror_mode": {
    "name": "ipython",
    "version": 3
   },
   "file_extension": ".py",
   "mimetype": "text/x-python",
   "name": "python",
   "nbconvert_exporter": "python",
   "pygments_lexer": "ipython3",
   "version": "3.8.1"
  }
 },
 "nbformat": 4,
 "nbformat_minor": 0
}
