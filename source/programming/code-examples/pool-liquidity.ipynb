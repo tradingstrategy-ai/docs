{
 "cells": [
  {
   "cell_type": "markdown",
   "metadata": {
    "collapsed": false,
    "pycharm": {
     "name": "#%% md\n"
    }
   },
   "source": [
    "# Query pool liquidity on a decentralised exchange\n",
    "\n",
    "In this notebook, we show how to get historical (past) available liquidity on [PancakeSwap](https://tradingstrategy.ai/trading-view/binance/pancakeswap-v2) pool.\n",
    "In this example, we use [BNB-BUSD pair](https://tradingstrategy.ai/trading-view/binance/pancakeswap-v2/bnb-busd). We also show how to get the liquidity added and removed during the time period."
   ]
  },
  {
   "cell_type": "markdown",
   "metadata": {
    "collapsed": false,
    "pycharm": {
     "name": "#%% md\n"
    }
   },
   "source": [
    "## About liquidity\n",
    "\n",
    "[Read the introduction blog post for liquidity analysis](https://tradingstrategy.ai/blog/announcing-support-for-liquidity-charts)\n",
    "so you understand how the liquidity is presented."
   ]
  },
  {
   "cell_type": "markdown",
   "metadata": {
    "collapsed": false,
    "pycharm": {
     "name": "#%% md\n"
    }
   },
   "source": [
    "## Getting started\n",
    "\n",
    "[Please read and complete the Getting started tutorial first](https://tradingstrategy.ai/docs/programming/examples/getting-started.html).\n",
    "\n",
    "First let's import libraries and initialise our Trading Strategy dataset client."
   ]
  },
  {
   "cell_type": "code",
   "execution_count": 2,
   "metadata": {
    "collapsed": false,
    "pycharm": {
     "name": "#%%\n"
    }
   },
   "outputs": [
    {
     "ename": "ModuleNotFoundError",
     "evalue": "No module named 'tradingstrategy'",
     "output_type": "error",
     "traceback": [
      "\u001b[0;31m---------------------------------------------------------------------------\u001b[0m",
      "\u001b[0;31mModuleNotFoundError\u001b[0m                       Traceback (most recent call last)",
      "\u001b[1;32m/home/alex/work/tradingstrategy-ai/docs/source/programming/code-examples/pool-liquidity.ipynb Cell 4\u001b[0m in \u001b[0;36m<cell line: 1>\u001b[0;34m()\u001b[0m\n\u001b[0;32m----> <a href='vscode-notebook-cell:/home/alex/work/tradingstrategy-ai/docs/source/programming/code-examples/pool-liquidity.ipynb#W3sZmlsZQ%3D%3D?line=0'>1</a>\u001b[0m \u001b[39mfrom\u001b[39;00m \u001b[39mtradingstrategy\u001b[39;00m\u001b[39m.\u001b[39;00m\u001b[39mclient\u001b[39;00m \u001b[39mimport\u001b[39;00m Client\n\u001b[1;32m      <a href='vscode-notebook-cell:/home/alex/work/tradingstrategy-ai/docs/source/programming/code-examples/pool-liquidity.ipynb#W3sZmlsZQ%3D%3D?line=2'>3</a>\u001b[0m client \u001b[39m=\u001b[39m Client\u001b[39m.\u001b[39mcreate_jupyter_client()\n",
      "\u001b[0;31mModuleNotFoundError\u001b[0m: No module named 'tradingstrategy'"
     ]
    }
   ],
   "source": [
    "from tradingstrategy.client import Client\n",
    "\n",
    "client = Client.create_jupyter_client()"
   ]
  },
  {
   "cell_type": "markdown",
   "metadata": {
    "collapsed": false,
    "pycharm": {
     "name": "#%% md\n"
    }
   },
   "source": [
    "## Fetching datasets\n",
    "\n",
    "Here we fetch the liquidity data for\n",
    "\n",
    "* [BNB-BUSD trading pair](https://tradingstrategy.ai/trading-view/binance/pancakeswap-v2/bnb-busd)\n",
    "* [Trading on PancakeSwap](https://tradingstrategy.ai/trading-view/binance/pancakeswap-v2)\n",
    "* [On Binance Smart Chain](https://tradingstrategy.ai/trading-view/binance/)\n",
    "\n",
    "To make this notebook run fast, we are operating on the historical weekly candles (7 days) to keep the\n",
    "download size of datasets smaller."
   ]
  },
  {
   "cell_type": "code",
   "execution_count": 32,
   "metadata": {
    "collapsed": false,
    "pycharm": {
     "name": "#%%\n"
    }
   },
   "outputs": [
    {
     "name": "stdout",
     "output_type": "stream",
     "text": [
      "Trading pair WBNB-BUSD id is 1015916, the pool contract address is 0x58f876857a02d6762e0101bb5c46a8c1ed44dc16\n"
     ]
    }
   ],
   "source": [
    "\n",
    "from tradingstrategy.chain import ChainId\n",
    "from tradingstrategy.liquidity import GroupedLiquidityUniverse\n",
    "from tradingstrategy.pair import PandasPairUniverse\n",
    "from tradingstrategy.timebucket import TimeBucket\n",
    "\n",
    "#: We use weekly liquidity candles for the calculations\n",
    "CANDLE_TIMEFRAME = TimeBucket.d7\n",
    "\n",
    "# Download exchange database\n",
    "exchange_universe = client.fetch_exchange_universe()\n",
    "\n",
    "# Download trading pair database\n",
    "raw_pairs = client.fetch_pair_universe().to_pandas()\n",
    "\n",
    "# Download liquidity OHLC candles\n",
    "raw_liquidity_samples = client.fetch_all_liquidity_samples(CANDLE_TIMEFRAME).to_pandas()\n",
    "\n",
    "# Create a Python helper to manipulate trading pairs\n",
    "pair_universe = PandasPairUniverse(raw_pairs)\n",
    "\n",
    "# Create a Python helper to manipulate pair liquidity data\n",
    "liquidity_universe = GroupedLiquidityUniverse(raw_liquidity_samples)\n",
    "\n",
    "# Do some test calculations for a single pair\n",
    "# Note that PancakeSwap has two different deployments:\n",
    "# you most likely want v2\n",
    "our_exchange = exchange_universe.get_by_chain_and_slug(ChainId.bsc, \"pancakeswap-v2\")\n",
    "assert our_exchange, \"Could not find the DEX\"\n",
    "\n",
    "# Query the pair metadata.\n",
    "# Note that PancakeSwap operates on Wrapped BNB (WBNB), not native BNB token\n",
    "base_token = \"WBNB\"\n",
    "quote_token = \"BUSD\"\n",
    "our_pair = pair_universe.get_one_pair_from_pandas_universe(our_exchange.exchange_id, \"WBNB\", \"BUSD\", pick_by_highest_vol=True)\n",
    "\n",
    "assert our_pair, \"Pair not found\"\n",
    "\n",
    "print(f\"Trading pair {base_token}-{quote_token} id is {our_pair.pair_id}, the pool contract address is {our_pair.address}\")"
   ]
  },
  {
   "cell_type": "markdown",
   "metadata": {
    "collapsed": false
   },
   "source": [
    "## Querying historical liquidity data\n",
    "\n",
    "Here we get the historical available liquidity at 2022-01-01.\n",
    "\n",
    "Unlike many other examples, or the underlying DEX protocol, here we operate on US Dollar amounts.\n",
    "[Any token price is converted to US Dollar through Trading Strategy reference pricing mechanism](https://tradingstrategy.ai/docs/programming/referenceprice.html).\n",
    "\n",
    "[See also XYLiquidity data structure documentation](https://tradingstrategy.ai/docs/programming/api/liquidity.html)\n",
    "for available values."
   ]
  },
  {
   "cell_type": "code",
   "execution_count": 1,
   "metadata": {
    "collapsed": false,
    "pycharm": {
     "name": "#%%\n"
    }
   },
   "outputs": [
    {
     "ename": "NameError",
     "evalue": "name 'liquidity_universe' is not defined",
     "output_type": "error",
     "traceback": [
      "\u001b[0;31m---------------------------------------------------------------------------\u001b[0m",
      "\u001b[0;31mNameError\u001b[0m                                 Traceback (most recent call last)",
      "\u001b[1;32m/home/alex/work/tradingstrategy-ai/docs/source/programming/code-examples/pool-liquidity.ipynb Cell 8\u001b[0m in \u001b[0;36m<cell line: 6>\u001b[0;34m()\u001b[0m\n\u001b[1;32m      <a href='vscode-notebook-cell:/home/alex/work/tradingstrategy-ai/docs/source/programming/code-examples/pool-liquidity.ipynb#X10sZmlsZQ%3D%3D?line=2'>3</a>\u001b[0m \u001b[39m# December 2021\u001b[39;00m\n\u001b[1;32m      <a href='vscode-notebook-cell:/home/alex/work/tradingstrategy-ai/docs/source/programming/code-examples/pool-liquidity.ipynb#X10sZmlsZQ%3D%3D?line=3'>4</a>\u001b[0m when \u001b[39m=\u001b[39m pd\u001b[39m.\u001b[39mTimestamp(\u001b[39m\"\u001b[39m\u001b[39m2021-12-01\u001b[39m\u001b[39m\"\u001b[39m)\n\u001b[0;32m----> <a href='vscode-notebook-cell:/home/alex/work/tradingstrategy-ai/docs/source/programming/code-examples/pool-liquidity.ipynb#X10sZmlsZQ%3D%3D?line=5'>6</a>\u001b[0m liquidity_samples \u001b[39m=\u001b[39m liquidity_universe\u001b[39m.\u001b[39mget_liquidity_samples_by_pair(our_pair\u001b[39m.\u001b[39mpair_id)\n\u001b[1;32m      <a href='vscode-notebook-cell:/home/alex/work/tradingstrategy-ai/docs/source/programming/code-examples/pool-liquidity.ipynb#X10sZmlsZQ%3D%3D?line=6'>7</a>\u001b[0m \u001b[39mif\u001b[39;00m liquidity_samples \u001b[39mis\u001b[39;00m \u001b[39mNone\u001b[39;00m:\n\u001b[1;32m      <a href='vscode-notebook-cell:/home/alex/work/tradingstrategy-ai/docs/source/programming/code-examples/pool-liquidity.ipynb#X10sZmlsZQ%3D%3D?line=7'>8</a>\u001b[0m     \u001b[39mraise\u001b[39;00m \u001b[39mAssertionError\u001b[39;00m(\u001b[39mf\u001b[39m\u001b[39m\"\u001b[39m\u001b[39mThe universe does not contain liquidity data for pair \u001b[39m\u001b[39m{\u001b[39;00mour_pair\u001b[39m}\u001b[39;00m\u001b[39m\"\u001b[39m)\n",
      "\u001b[0;31mNameError\u001b[0m: name 'liquidity_universe' is not defined"
     ]
    }
   ],
   "source": [
    "import pandas as pd\n",
    "\n",
    "# December 2021\n",
    "when = pd.Timestamp(\"2021-12-01\")\n",
    "\n",
    "liquidity_samples = liquidity_universe.get_liquidity_samples_by_pair(our_pair.pair_id)\n",
    "if liquidity_samples is None:\n",
    "    raise AssertionError(f\"The universe does not contain liquidity data for pair {our_pair}\")\n",
    "\n",
    "# Get all liquidity OHLC past the certain timestamp.\n",
    "# Thus, we query the first available liquidity sample *after* the timestamp.\n",
    "ranged_samples = liquidity_samples[when:]\n",
    "\n",
    "if len(ranged_samples) == 0:\n",
    "    raise AssertionError(f\"Pair {our_pair} had no liquidity before {when}\")\n",
    "\n",
    "# Get the first sample in the series\n",
    "# This presents the liquidity at the first available sampled moment\n",
    "# since the timestamp.\n",
    "first_sample = ranged_samples.iloc[0]\n",
    "\n",
    "# Convert liquidity from USD to token\n",
    "token_liquidity = first_sample.open * first_sample.exchange_rate\n",
    "\n",
    "print(f\"\"\"\n",
    "Liquidity sampled at: {first_sample.timestamp}\n",
    "Liquidity sample period: {CANDLE_TIMEFRAME.value}\n",
    "Liquidity at the begin: {first_sample.open:,.2f} USD\n",
    "Liquidity at the end: {first_sample.close:,.2f} USD\n",
    "Liquidity at the begin, expressed as the quote token: {token_liquidity:.4f} {our_pair.quote_token_symbol}\n",
    "Liquidity added during the period: {first_sample.add_volume:,.2f} USD\n",
    "Liquidity removed during the period: {first_sample.remove_volume:,.2f} USD\n",
    "\"\"\")"
   ]
  },
  {
   "cell_type": "markdown",
   "metadata": {
    "collapsed": false
   },
   "source": [
    "## Further info and sources of potential errors\n",
    "\n",
    "See also [price impact example](https://tradingstrategy.ai/docs/programming/examples/price-impact.html)."
   ]
  }
 ],
 "metadata": {
  "kernelspec": {
   "display_name": "Python 3.10.8 64-bit",
   "language": "python",
   "name": "python3"
  },
  "language_info": {
   "codemirror_mode": {
    "name": "ipython",
    "version": 3
   },
   "file_extension": ".py",
   "mimetype": "text/x-python",
   "name": "python",
   "nbconvert_exporter": "python",
   "pygments_lexer": "ipython3",
   "version": "3.10.6"
  },
  "vscode": {
   "interpreter": {
    "hash": "97cc609b13305c559618ec78a438abc56230b9381f827f22d070313b9a1f3777"
   }
  }
 },
 "nbformat": 4,
 "nbformat_minor": 0
}
